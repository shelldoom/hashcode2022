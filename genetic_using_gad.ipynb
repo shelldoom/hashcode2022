{
 "cells": [
  {
   "cell_type": "code",
   "execution_count": 1,
   "id": "250d78e8",
   "metadata": {},
   "outputs": [],
   "source": [
    "# Python Version: 3.9\n",
    "\n",
    "# Requirements\n",
    "# !pip install pygad\n",
    "# !pip install numpy"
   ]
  },
  {
   "cell_type": "code",
   "execution_count": 2,
   "id": "4e40b224",
   "metadata": {},
   "outputs": [],
   "source": [
    "from random import choices, choice, randint, randrange, random\n",
    "from math import log10\n",
    "import os\n",
    "import time\n",
    "import pygad\n",
    "import json\n",
    "import numpy as np"
   ]
  },
  {
   "cell_type": "code",
   "execution_count": 3,
   "id": "da7fec55",
   "metadata": {},
   "outputs": [],
   "source": [
    "def parse_input(filename: str):\n",
    "    with open(filename, \"r\") as f:\n",
    "        data = f.read()\n",
    "    data = [i for i in data.split(\"\\n\") if i.strip() != \"\"]\n",
    "    \n",
    "    data = data[1:]\n",
    "    client_data = [[data[i], data[i+1]] for i in range(0, len(data), 2)]\n",
    "    \n",
    "    for i in range(len(client_data)):\n",
    "        likes, dislikes = client_data[i]\n",
    "        likes = set(likes.split(\" \")[1:])\n",
    "        dislikes = set(dislikes.split(\" \")[1:] or [])\n",
    "        client_data[i] = [likes, dislikes]\n",
    "    return client_data"
   ]
  },
  {
   "cell_type": "code",
   "execution_count": 4,
   "id": "d7d0614a",
   "metadata": {},
   "outputs": [],
   "source": [
    "def score_pizza(pizza_ingredients: set[str]):\n",
    "    pizza_ingredients = set(pizza_ingredients)\n",
    "    score = 0\n",
    "    global client_data\n",
    "    for client_info in client_data:\n",
    "        client_likes, client_dislikes = client_info\n",
    "        client_likes_pizza = True\n",
    "        \n",
    "        # all the ingredients they like are on the pizza\n",
    "        for liked_ingredient in client_likes:\n",
    "            if liked_ingredient not in pizza_ingredients:\n",
    "                client_likes_pizza = False\n",
    "                break\n",
    "\n",
    "        # none of the ingredients they dislike are on the pizza \n",
    "        if client_likes_pizza:\n",
    "            for disliked_ingredient in client_dislikes:\n",
    "                if disliked_ingredient in pizza_ingredients:\n",
    "                    client_likes_pizza = False\n",
    "                    break\n",
    "        if client_likes_pizza:\n",
    "            score += 1\n",
    "    return score"
   ]
  },
  {
   "cell_type": "code",
   "execution_count": 5,
   "id": "6b0e1414",
   "metadata": {},
   "outputs": [],
   "source": [
    "def getAllIngredients():\n",
    "    global client_data\n",
    "    allIngredients = set()\n",
    "    for client_info in client_data:\n",
    "        client_likes, client_dislikes = client_info\n",
    "        allIngredients = allIngredients.union(client_likes)\n",
    "        allIngredients = allIngredients.union(client_dislikes)\n",
    "    return sorted(list(allIngredients))"
   ]
  },
  {
   "cell_type": "code",
   "execution_count": 6,
   "id": "0d428ef0",
   "metadata": {},
   "outputs": [],
   "source": [
    "def genome_to_ingredients(genome: list[int]):\n",
    "    'Convert genome to what pizza ingredients they represent'\n",
    "    ingredients = set()\n",
    "    for idx, bit in enumerate(genome):\n",
    "        if bit == 1:\n",
    "            ingredients.add(allIngredients[idx])\n",
    "    return ingredients\n",
    "\n",
    "# Fitness Function\n",
    "# Reason for pop_idx parameter, see here \n",
    "# https://pygad.readthedocs.io/en/latest/README_pygad_ReadTheDocs.html#preparing-the-fitness-func-parameter\n",
    "def get_genome_score(genome, pop_idx):\n",
    "    'Get score of genome i.e. how many clients were fine with the pizza'\n",
    "    ingredients = genome_to_ingredients(genome)\n",
    "    return score_pizza(ingredients)"
   ]
  },
  {
   "cell_type": "code",
   "execution_count": 18,
   "id": "8f2917c8",
   "metadata": {},
   "outputs": [
    {
     "name": "stdout",
     "output_type": "stream",
     "text": [
      "File selected: ./input/a_an_example.in.txt\n",
      "No. of ingredients: 6 | No. of clients: 3\n",
      "No. of permutations possible: 2^6 or 10^1.81\n"
     ]
    }
   ],
   "source": [
    "files = ['./input/' + file for file in os.listdir('./input')]\n",
    "input_file = files[0]   # Change index here\n",
    "\n",
    "client_data = parse_input(input_file)\n",
    "allIngredients = list(getAllIngredients())\n",
    "ingredientCount = len(allIngredients)\n",
    "clientCount = len(client_data)\n",
    "bestGenome = None\n",
    "bestScore = 0\n",
    "plotsArray = []\n",
    "\n",
    "print(f\"File selected: {input_file}\")\n",
    "print(f\"No. of ingredients: {ingredientCount} | No. of clients: {clientCount}\")\n",
    "print(f\"No. of permutations possible: 2^{ingredientCount} or 10^{round(log10(2)*ingredientCount, 2)}\")\n",
    "\n",
    "parameters = {}\n",
    "\n",
    "parameters[\"input_filename\"] = input_file\n",
    "parameters[\"total_ingredient_count\"] = ingredientCount\n",
    "parameters[\"client_count\"] = clientCount\n",
    "\n",
    "# Fixed Parameters\n",
    "parameters[\"num_gens\"]  = ingredientCount\n",
    "\n",
    "# Parameters\n",
    "parameters[\"gen_count\"]             = 10_000             # Max no. of generations\n",
    "parameters[\"num_parents_mating\"]    = 4\n",
    "parameters[\"sol_per_pop\"]           = 10                 # No. of solutions within the population\n",
    "parameters[\"parent_selection_type\"] = \"random\"           # sss, rws, sus, rank, random, tournament\n",
    "parameters[\"keep_parents\"]          = 1                   \n",
    "parameters[\"crossover_type\"]        = \"uniform\"          # single_point, two_points, uniform, scattered\n",
    "parameters[\"mutation_type\"]         = \"inversion\"        # random, swap, inversion, scramble, adaptive\n",
    "parameters[\"mutation_probability\"]  = None\n",
    "parameters[\"mutation_percent_genes\"]= 10\n",
    "\n",
    "ga_instance = pygad.GA(\n",
    "    num_generations=parameters[\"gen_count\"],\n",
    "    num_parents_mating=parameters[\"num_parents_mating\"],\n",
    "    fitness_func=get_genome_score,\n",
    "    sol_per_pop=parameters[\"sol_per_pop\"],\n",
    "    num_genes=parameters[\"num_gens\"],\n",
    "    parent_selection_type=parameters[\"parent_selection_type\"],\n",
    "    keep_parents=parameters[\"keep_parents\"],\n",
    "    crossover_type=parameters[\"crossover_type\"],\n",
    "    mutation_type=parameters[\"mutation_type\"],\n",
    "    mutation_percent_genes=parameters[\"mutation_percent_genes\"],\n",
    "    mutation_probability=parameters[\"mutation_probability\"],\n",
    "    gene_space=[0,1],\n",
    "    gene_type=int\n",
    ")"
   ]
  },
  {
   "cell_type": "code",
   "execution_count": 19,
   "id": "a06e5906",
   "metadata": {},
   "outputs": [
    {
     "name": "stdout",
     "output_type": "stream",
     "text": [
      "Time Taken: 3.31 seconds\n",
      "Best Score: 2\n"
     ]
    },
    {
     "data": {
      "image/png": "[encoded data removed]",
      "text/plain": [
       "<Figure size 432x288 with 1 Axes>"
      ]
     },
     "metadata": {
      "needs_background": "light"
     },
     "output_type": "display_data"
    }
   ],
   "source": [
    "start = time.perf_counter()\n",
    "ga_instance.run()\n",
    "solution, solution_fitness, solution_idx = ga_instance.best_solution()\n",
    "best_score = int(solution_fitness)\n",
    "time_taken = round(time.perf_counter() - start, 2)\n",
    "print(f\"Time Taken: {time_taken} seconds\")\n",
    "print(f\"Best Score: {best_score}\")\n",
    "\n",
    "ingredients_used = genome_to_ingredients(solution)\n",
    "\n",
    "parameters[\"best_score\"] = best_score\n",
    "parameters[\"solution_genome\"] = \"\".join(map(str, solution))\n",
    "parameters[\"solution_ingredients\"] = f\"{len(ingredients_used)} {' '.join(ingredients_used)}\"\n",
    "parameters[\"time_taken_in_seconds\"] = time_taken\n",
    "\n",
    "# Save the results in results.json\n",
    "with open(\"results.json\", \"r\") as f:\n",
    "    d = json.load(f)\n",
    "    d.append(parameters)    \n",
    "with open(\"results.json\", \"w\") as f:\n",
    "    d = sorted(d, key=lambda x: -x[\"best_score\"])\n",
    "    json.dump(d, f, indent=4)\n",
    "\n",
    "plotsArray.append(ga_instance.plot_fitness())"
   ]
  },
  {
   "cell_type": "code",
   "execution_count": null,
   "id": "afc74bed",
   "metadata": {},
   "outputs": [],
   "source": []
  }
 ],
 "metadata": {
  "kernelspec": {
   "display_name": "Python 3 (ipykernel)",
   "language": "python",
   "name": "python3"
  },
  "language_info": {
   "codemirror_mode": {
    "name": "ipython",
    "version": 3
   },
   "file_extension": ".py",
   "mimetype": "text/x-python",
   "name": "python",
   "nbconvert_exporter": "python",
   "pygments_lexer": "ipython3",
   "version": "3.9.6"
  }
 },
 "nbformat": 4,
 "nbformat_minor": 5
}
