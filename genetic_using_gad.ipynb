{
 "cells": [
  {
   "cell_type": "code",
   "execution_count": 1,
   "id": "4e40b224",
   "metadata": {},
   "outputs": [],
   "source": [
    "from random import choices, choice, randint, randrange, random\n",
    "from math import log10\n",
    "import os\n",
    "import time\n",
    "import pygad\n",
    "import numpy as np"
   ]
  },
  {
   "cell_type": "code",
   "execution_count": 2,
   "id": "da7fec55",
   "metadata": {},
   "outputs": [],
   "source": [
    "def parse_input(filename):\n",
    "    with open(filename, \"r\") as f:\n",
    "        data = f.read()\n",
    "    data = [i for i in data.split(\"\\n\") if i.strip() != \"\"]\n",
    "    \n",
    "    data = data[1:]\n",
    "    client_data = [[data[i], data[i+1]] for i in range(0, len(data), 2)]\n",
    "    \n",
    "    for i in range(len(client_data)):\n",
    "        likes, dislikes = client_data[i]\n",
    "        likes = set(likes.split(\" \")[1:])\n",
    "        dislikes = set(dislikes.split(\" \")[1:] or [])\n",
    "        client_data[i] = [likes, dislikes]\n",
    "    return client_data"
   ]
  },
  {
   "cell_type": "code",
   "execution_count": 3,
   "id": "d7d0614a",
   "metadata": {},
   "outputs": [],
   "source": [
    "def score_pizza(pizza_ingredients: set[str]):\n",
    "    pizza_ingredients = set(pizza_ingredients)\n",
    "    score = 0\n",
    "    global client_data\n",
    "    for client_info in client_data:\n",
    "        client_likes, client_dislikes = client_info\n",
    "        client_likes_pizza = True\n",
    "        \n",
    "        # all the ingredients they like are on the pizza\n",
    "        for liked_ingredient in client_likes:\n",
    "            if liked_ingredient not in pizza_ingredients:\n",
    "                client_likes_pizza = False\n",
    "                break\n",
    "\n",
    "        # none of the ingredients they dislike are on the pizza \n",
    "        if client_likes_pizza:\n",
    "            for disliked_ingredient in client_dislikes:\n",
    "                if disliked_ingredient in pizza_ingredients:\n",
    "                    client_likes_pizza = False\n",
    "                    break\n",
    "        if client_likes_pizza:\n",
    "            score += 1\n",
    "    return score"
   ]
  },
  {
   "cell_type": "code",
   "execution_count": 4,
   "id": "6b0e1414",
   "metadata": {},
   "outputs": [],
   "source": [
    "def getAllIngredients():\n",
    "    global client_data\n",
    "    allIngredients = set()\n",
    "    for client_info in client_data:\n",
    "        client_likes, client_dislikes = client_info\n",
    "        allIngredients = allIngredients.union(client_likes)\n",
    "        allIngredients = allIngredients.union(client_dislikes)\n",
    "    return sorted(list(allIngredients))"
   ]
  },
  {
   "cell_type": "code",
   "execution_count": 5,
   "id": "8a3e3e74",
   "metadata": {},
   "outputs": [],
   "source": [
    "def getAllDislikedIngredients():\n",
    "    global client_data\n",
    "    result = set() \n",
    "    for client_info in client_data:\n",
    "        client_likes, client_dislikes = client_info\n",
    "        result = result.union(client_dislikes)\n",
    "    return result"
   ]
  },
  {
   "cell_type": "code",
   "execution_count": 6,
   "id": "01dfce30",
   "metadata": {},
   "outputs": [],
   "source": [
    "def getIngredientsThatWereNeverDisliked():\n",
    "    global client_data\n",
    "    allIngredients = set(getAllIngredients(client_data))\n",
    "    allDislikes = getAllDislikedIngredients(client_data)\n",
    "    \n",
    "    result = set()\n",
    "    for i in allIngredients:\n",
    "        if i not in allDislikes:\n",
    "            result.add(i)\n",
    "    \n",
    "    return result"
   ]
  },
  {
   "cell_type": "code",
   "execution_count": 10,
   "id": "0d428ef0",
   "metadata": {},
   "outputs": [],
   "source": [
    "def generate_genome():\n",
    "    'Generates random genome'\n",
    "    global genomeLength\n",
    "    return np.random.choice([0, 1], size=genomeLength)\n",
    "\n",
    "def generate_population(size):\n",
    "    'Generates list of random genomes of provided size'\n",
    "    return np.array([generate_genome() for _ in range(size)])\n",
    "\n",
    "def genome_to_ingredients(genome):\n",
    "    'Convert genome to what pizza ingredients they represent'\n",
    "    ingredients = set()\n",
    "    for idx, bit in enumerate(genome):\n",
    "        if bit == 1:\n",
    "            ingredients.add(allIngredients[idx])\n",
    "    return ingredients\n",
    "\n",
    "def get_genome_score(genome, pop_idx):\n",
    "    'Get score of genome i.e. how many clients were fine with the pizza'\n",
    "    ingredients = genome_to_ingredients(genome)\n",
    "    return score_pizza(ingredients)"
   ]
  },
  {
   "cell_type": "code",
   "execution_count": 31,
   "id": "8f2917c8",
   "metadata": {},
   "outputs": [
    {
     "name": "stdout",
     "output_type": "stream",
     "text": [
      "File selected: ./input/d_difficult.in.txt\n",
      "No. of ingredients: 600\n",
      "No. of clients: 9368\n",
      "No. of permutations possible: 2^600 or 10^180.62\n",
      "Max Score Limit: 9368\n",
      "Time started: 21:54\n",
      "1470\n"
     ]
    }
   ],
   "source": [
    "files = ['./input/' + file for file in os.listdir('./input')]\n",
    "input_file = files[3]\n",
    "client_data = parse_input(input_file)\n",
    "allIngredients = list(getAllIngredients())\n",
    "bestGenome = None\n",
    "bestScore = 0\n",
    "genomeLength = len(allIngredients)\n",
    "\n",
    "print(f\"File selected: {input_file}\")\n",
    "print(f\"No. of ingredients: {len(allIngredients)}\")\n",
    "print(f\"No. of clients: {len(client_data)}\")\n",
    "print(f\"No. of permutations possible: 2^{len(allIngredients)} or 10^{round(log10(2)*len(allIngredients), 2)}\")\n",
    "print(f\"Max Score Limit: {len(client_data)}\")\n",
    "print(time.strftime(\"Time started: %H:%M\"))\n",
    "\n",
    "ga_instance = pygad.GA(\n",
    "    num_generations=1_000,\n",
    "    num_parents_mating=4,\n",
    "    fitness_func=get_genome_score,\n",
    "    sol_per_pop=10,\n",
    "    num_genes=genomeLength,\n",
    "    parent_selection_type=\"sss\",\n",
    "    keep_parents=1,\n",
    "    crossover_type=\"single_point\",\n",
    "    mutation_type=\"random\",\n",
    "    mutation_percent_genes=10,\n",
    "    gene_space=[0,1]\n",
    ")\n",
    "ga_instance.run()\n",
    "solution, solution_fitness, solution_idx = ga_instance.best_solution()\n",
    "# print(solution)\n",
    "print(solution_fitness)\n",
    "# print(solution_idx)"
   ]
  },
  {
   "cell_type": "code",
   "execution_count": 32,
   "id": "5fd65409",
   "metadata": {},
   "outputs": [
    {
     "data": {
      "image/png": "[encoded data removed]",
      "text/plain": [
       "<Figure size 432x288 with 1 Axes>"
      ]
     },
     "metadata": {
      "needs_background": "light"
     },
     "output_type": "display_data"
    }
   ],
   "source": [
    "p = ga_instance.plot_fitness()"
   ]
  },
  {
   "cell_type": "code",
   "execution_count": 28,
   "id": "266a6dd5",
   "metadata": {},
   "outputs": [],
   "source": []
  },
  {
   "cell_type": "code",
   "execution_count": null,
   "id": "0992c6e5",
   "metadata": {},
   "outputs": [],
   "source": []
  }
 ],
 "metadata": {
  "kernelspec": {
   "display_name": "Python 3 (ipykernel)",
   "language": "python",
   "name": "python3"
  },
  "language_info": {
   "codemirror_mode": {
    "name": "ipython",
    "version": 3
   },
   "file_extension": ".py",
   "mimetype": "text/x-python",
   "name": "python",
   "nbconvert_exporter": "python",
   "pygments_lexer": "ipython3",
   "version": "3.9.6"
  }
 },
 "nbformat": 4,
 "nbformat_minor": 5
}
