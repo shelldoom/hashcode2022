{
 "cells": [
  {
   "cell_type": "markdown",
   "id": "a1964312",
   "metadata": {},
   "source": [
    "### NOTES\n",
    "\n",
    "We represent the solution in the form of genome which is a list of 0s and 1s.<br/>\n",
    "0 indicating that the ingredient is excluded in the pizza recipe <br/>\n",
    "1 indicating that the ingredient is included in the pizza recipe<br/>\n",
    "\n",
    "The genome can be remapped to list of ingredients using the function `genome_to_ingredients`\n",
    "\n",
    "Example:<br/>\n",
    "Assuming `allIngredients = [tomato, onion, carrot, cabbage]`\n",
    "<br/>\n",
    "The genome `[0, 1, 1, 0]` represents `[onion, carrot]`\n",
    "<br/>\n",
    "`genome_to_ingredients([0, 1, 1, 0])` returns `[onion, carrot]`\n",
    "\n",
    "\n",
    "NOTE: The length of the genome will be same as that of the total number of ingredients\n"
   ]
  },
  {
   "cell_type": "code",
   "execution_count": 12,
   "id": "ebbbf50d",
   "metadata": {},
   "outputs": [
    {
     "name": "stdout",
     "output_type": "stream",
     "text": [
      "Note: you may need to restart the kernel to use updated packages.\n"
     ]
    },
    {
     "name": "stderr",
     "output_type": "stream",
     "text": [
      "The filename, directory name, or volume label syntax is incorrect.\n"
     ]
    },
    {
     "name": "stdout",
     "output_type": "stream",
     "text": [
      "Note: you may need to restart the kernel to use updated packages.\n"
     ]
    },
    {
     "name": "stderr",
     "output_type": "stream",
     "text": [
      "The filename, directory name, or volume label syntax is incorrect.\n"
     ]
    }
   ],
   "source": [
    "# Python Version: 3.9 or above\n",
    "\n",
    "# Requirements\n",
    "# !pip install pygad\n",
    "# !pip install numpy"
   ]
  },
  {
   "cell_type": "code",
   "execution_count": 1,
   "id": "4e40b224",
   "metadata": {},
   "outputs": [],
   "source": [
    "from random import choice, choices, randint, randrange, random\n",
    "from math import log10\n",
    "import os\n",
    "import time\n",
    "import pygad\n",
    "import json\n",
    "import numpy as np"
   ]
  },
  {
   "cell_type": "code",
   "execution_count": 2,
   "id": "da7fec55",
   "metadata": {},
   "outputs": [],
   "source": [
    "# Parses the input file and returns a list of (likes, dislikes) of each client\n",
    "# Example: For input 'a_an_example.in.txt', the function returns\n",
    "# [[[cheese, pepper], []], [[basil], [pineapple]], [[mushrooms, tomatoes], [basil]]]\n",
    "\n",
    "def parse_input(filename: str):\n",
    "    with open(filename, \"r\") as f:\n",
    "        data = f.read()\n",
    "    data = [i for i in data.split(\"\\n\") if i.strip() != \"\"]\n",
    "\n",
    "    data = data[1:]\n",
    "    client_data = [[data[i], data[i + 1]] for i in range(0, len(data), 2)]\n",
    "\n",
    "    for i in range(len(client_data)):\n",
    "        likes, dislikes = client_data[i]\n",
    "        likes = set(likes.split(\" \")[1:])\n",
    "        dislikes = set(dislikes.split(\" \")[1:] or [])\n",
    "        client_data[i] = [likes, dislikes]\n",
    "    return client_data\n"
   ]
  },
  {
   "cell_type": "code",
   "execution_count": 3,
   "id": "d7d0614a",
   "metadata": {},
   "outputs": [],
   "source": [
    "def score_pizza(pizza_ingredients: set[str]):\n",
    "    \"Used for scoring the solution found\"\n",
    "    pizza_ingredients = set(pizza_ingredients)\n",
    "    score = 0\n",
    "    global client_data\n",
    "    for client_info in client_data:\n",
    "        client_likes, client_dislikes = client_info\n",
    "        client_likes_pizza = True\n",
    "\n",
    "        # all the ingredients they like are on the pizza\n",
    "        for liked_ingredient in client_likes:\n",
    "            if liked_ingredient not in pizza_ingredients:\n",
    "                client_likes_pizza = False\n",
    "                break\n",
    "\n",
    "        # none of the ingredients they dislike are on the pizza\n",
    "        if client_likes_pizza:\n",
    "            for disliked_ingredient in client_dislikes:\n",
    "                if disliked_ingredient in pizza_ingredients:\n",
    "                    client_likes_pizza = False\n",
    "                    break\n",
    "        if client_likes_pizza:\n",
    "            score += 1\n",
    "    return score\n"
   ]
  },
  {
   "cell_type": "code",
   "execution_count": 5,
   "id": "6b0e1414",
   "metadata": {},
   "outputs": [],
   "source": [
    "def getAllIngredients():\n",
    "    \"Get all ingredients used in input dataset\"\n",
    "    global client_data\n",
    "    allIngredients = set()\n",
    "    for client_info in client_data:\n",
    "        client_likes, client_dislikes = client_info\n",
    "        allIngredients = allIngredients.union(client_likes)\n",
    "        allIngredients = allIngredients.union(client_dislikes)\n",
    "    return sorted(list(allIngredients))\n"
   ]
  },
  {
   "cell_type": "code",
   "execution_count": 6,
   "id": "a5f8e521",
   "metadata": {},
   "outputs": [],
   "source": [
    "def getAllDislikedIngredients():\n",
    "    \"Get all disliked ingredients\"\n",
    "    global client_data\n",
    "    result = set()\n",
    "    for client_info in client_data:\n",
    "        client_likes, client_dislikes = client_info\n",
    "        result = result.union(client_dislikes)\n",
    "    return result\n",
    "\n",
    "\n",
    "def getIngredientsThatWereNeverDisliked():\n",
    "    \"Get all ingredients that were never disliked by any of the clients\"\n",
    "    global client_data\n",
    "    allIngredients = set(getAllIngredients())\n",
    "    allDislikes = getAllDislikedIngredients()\n",
    "\n",
    "    result = set()\n",
    "    for ingredient in allIngredients:\n",
    "        if ingredient not in allDislikes:\n",
    "            result.add(ingredient)\n",
    "\n",
    "    return result\n",
    "\n",
    "\n",
    "def getAllIngredientsThatWereDislikedAtleastOnce():\n",
    "    \"Get all ingredients that were disliked by any one of the clients i.e. disliked at least once\"\n",
    "    global client_data\n",
    "    allIngredients = set(getAllIngredients())\n",
    "    neverDislikedIngredients = getIngredientsThatWereNeverDisliked()\n",
    "    return sorted(list(allIngredients.difference(neverDislikedIngredients)))\n"
   ]
  },
  {
   "cell_type": "code",
   "execution_count": 7,
   "id": "0d428ef0",
   "metadata": {},
   "outputs": [],
   "source": [
    "# This function helps convert the genome list representation into list of ingredients\n",
    "def genome_to_ingredients(genome: list[int]):\n",
    "    \"Convert genome to what pizza ingredients they represent\"\n",
    "    global allIngredients\n",
    "    ingredients = set()\n",
    "    for idx, bit in enumerate(genome):\n",
    "        if bit == 1:\n",
    "            ingredients.add(allIngredients[idx])\n",
    "    return ingredients\n",
    "\n",
    "\n",
    "# Scoring/Fitness Function\n",
    "# This function scores the genome i.e. no. of clients satisfied, which we will use for fitness\n",
    "def get_genome_score(genome):\n",
    "    \"Get score of genome i.e. how many clients were fine with the pizza\"\n",
    "    ingredients = genome_to_ingredients(genome)\n",
    "    return score_pizza(ingredients)\n"
   ]
  },
  {
   "cell_type": "code",
   "execution_count": 9,
   "id": "8f2917c8",
   "metadata": {},
   "outputs": [
    {
     "name": "stdout",
     "output_type": "stream",
     "text": [
      "File selected: ./input/d_difficult.in.txt\n",
      "No. of ingredients: 600 | No. of clients: 9368\n",
      "No. of permutations possible: 2^600 or 10^180.62\n"
     ]
    }
   ],
   "source": [
    "files = [\"./input/\" + file for file in os.listdir(\"./input\")]\n",
    "\n",
    "# Change index here to change the input\n",
    "input_file = files[3]\n",
    "\n",
    "client_data = parse_input(input_file)\n",
    "# allIngredients = list(getAllIngredientsThatWereDislikedAtleastOnce())\n",
    "allIngredients = list(getAllIngredients())\n",
    "\n",
    "ingredientCount = len(allIngredients)\n",
    "clientCount = len(client_data)\n",
    "\n",
    "bestGenome = None\n",
    "bestScore = 0\n",
    "\n",
    "print(f\"File selected: {input_file}\")\n",
    "print(f\"No. of ingredients: {ingredientCount} | No. of clients: {clientCount}\")\n",
    "print(f\"No. of permutations possible: 2^{ingredientCount} or 10^{round(log10(2)*ingredientCount, 2)}\")\n",
    "\n",
    "parameters = {}\n",
    "\n",
    "parameters[\"input_filename\"] = input_file\n",
    "parameters[\"total_ingredient_count\"] = ingredientCount\n",
    "parameters[\"client_count\"] = clientCount\n"
   ]
  }
 ],
 "metadata": {
  "kernelspec": {
   "display_name": "Python 3 (ipykernel)",
   "language": "python",
   "name": "python3"
  },
  "language_info": {
   "codemirror_mode": {
    "name": "ipython",
    "version": 3
   },
   "file_extension": ".py",
   "mimetype": "text/x-python",
   "name": "python",
   "nbconvert_exporter": "python",
   "pygments_lexer": "ipython3",
   "version": "3.9.6"
  }
 },
 "nbformat": 4,
 "nbformat_minor": 5
}
