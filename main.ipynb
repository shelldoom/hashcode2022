{
 "cells": [
  {
   "cell_type": "code",
   "execution_count": 1,
   "id": "1d58413e",
   "metadata": {},
   "outputs": [],
   "source": [
    "import os\n",
    "files = ['./input/' + file for file in os.listdir('./input')]"
   ]
  },
  {
   "cell_type": "code",
   "execution_count": 2,
   "id": "fb879d27",
   "metadata": {},
   "outputs": [],
   "source": [
    "# os.startfile(os.path.abspath(files[2]))"
   ]
  },
  {
   "cell_type": "code",
   "execution_count": 7,
   "id": "da7fec55",
   "metadata": {},
   "outputs": [],
   "source": [
    "def parse_input(filename):\n",
    "    with open(filename, \"r\") as f:\n",
    "        data = f.read()\n",
    "    data = [i for i in data.split(\"\\n\") if i.strip() != \"\"]\n",
    "    \n",
    "    # client_count = int(data[0])\n",
    "    \n",
    "    data = data[1:]\n",
    "    client_data = [[data[i], data[i+1]] for i in range(0, len(data), 2)]\n",
    "    \n",
    "    for i in range(len(client_data)):\n",
    "        likes, dislikes = client_data[i]\n",
    "        likes = likes.split(\" \")[1:]\n",
    "        dislikes = dislikes.split(\" \")[1:]\n",
    "        client_data[i] = [likes, dislikes]\n",
    "    return client_data"
   ]
  },
  {
   "cell_type": "code",
   "execution_count": 13,
   "id": "f39ca5dd",
   "metadata": {},
   "outputs": [
    {
     "data": {
      "text/plain": [
       "[[['cheese', 'peppers'], []],\n",
       " [['basil'], ['pineapple']],\n",
       " [['mushrooms', 'tomatoes'], ['basil']]]"
      ]
     },
     "execution_count": 13,
     "metadata": {},
     "output_type": "execute_result"
    }
   ],
   "source": [
    "client_data = parse_input(files[0])\n",
    "client_data"
   ]
  },
  {
   "cell_type": "code",
   "execution_count": null,
   "id": "310a2646",
   "metadata": {},
   "outputs": [],
   "source": []
  }
 ],
 "metadata": {
  "kernelspec": {
   "display_name": "Python 3 (ipykernel)",
   "language": "python",
   "name": "python3"
  },
  "language_info": {
   "codemirror_mode": {
    "name": "ipython",
    "version": 3
   },
   "file_extension": ".py",
   "mimetype": "text/x-python",
   "name": "python",
   "nbconvert_exporter": "python",
   "pygments_lexer": "ipython3",
   "version": "3.9.6"
  }
 },
 "nbformat": 4,
 "nbformat_minor": 5
}
