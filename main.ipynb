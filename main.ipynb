{
 "cells": [
  {
   "cell_type": "code",
   "execution_count": 1,
   "id": "1d58413e",
   "metadata": {},
   "outputs": [],
   "source": [
    "import os\n",
    "files = ['./input/' + file for file in os.listdir('./input')]"
   ]
  },
  {
   "cell_type": "code",
   "execution_count": 2,
   "id": "da7fec55",
   "metadata": {},
   "outputs": [],
   "source": [
    "def parse_input(filename):\n",
    "    with open(filename, \"r\") as f:\n",
    "        data = f.read()\n",
    "    data = [i for i in data.split(\"\\n\") if i.strip() != \"\"]\n",
    "    \n",
    "    data = data[1:]\n",
    "    client_data = [[data[i], data[i+1]] for i in range(0, len(data), 2)]\n",
    "    \n",
    "    for i in range(len(client_data)):\n",
    "        likes, dislikes = client_data[i]\n",
    "        likes = set(likes.split(\" \")[1:])\n",
    "        dislikes = set(dislikes.split(\" \")[1:] or [])\n",
    "        client_data[i] = [likes, dislikes]\n",
    "    return client_data"
   ]
  },
  {
   "cell_type": "code",
   "execution_count": 3,
   "id": "28c35930",
   "metadata": {},
   "outputs": [],
   "source": [
    "def score_pizza(pizza: set[str], client_data):\n",
    "    score = 0\n",
    "    for client_info in client_data:\n",
    "        client_likes, client_dislikes = client_info\n",
    "        client_likes_pizza = True\n",
    "        \n",
    "        # all the ingredients they like are on the pizza\n",
    "        for liked_ingredient in client_likes:\n",
    "            if liked_ingredient not in pizza:\n",
    "                client_likes_pizza = False\n",
    "                break\n",
    "\n",
    "        # none of the ingredients they dislike are on the pizza \n",
    "        if client_likes_pizza:\n",
    "            for disliked_ingredient in client_dislikes:\n",
    "                if disliked_ingredient in pizza:\n",
    "                    client_likes_pizza = False\n",
    "                    break\n",
    "        if client_likes_pizza:\n",
    "            score += 1\n",
    "    return score"
   ]
  },
  {
   "cell_type": "code",
   "execution_count": 4,
   "id": "c0aab342",
   "metadata": {},
   "outputs": [],
   "source": [
    "# def frequency(client_data):\n",
    "#     hashmap = {}\n",
    "#     for client_info in client_data:\n",
    "#         client_likes, client_dislikes = client_info\n",
    "\n",
    "#         for i in client_likes:\n",
    "#             hashmap[i] = hashmap.get(i, 0) + 1\n",
    "#         for i in client_dislikes:\n",
    "#             hashmap[i] = hashmap.get(i, 0) - 1\n",
    "\n",
    "#     sorted_hashmap = {k:hashmap[k] for k in sorted(hashmap.keys(), key=lambda x: -hashmap[x])}\n",
    "#     print(list(sorted_hashmap.items()))\n",
    "# #     print(list(sorted_hashmap.keys()))"
   ]
  },
  {
   "cell_type": "code",
   "execution_count": 5,
   "id": "7c672b1e",
   "metadata": {},
   "outputs": [],
   "source": [
    "def getAllIngredients(client_data):\n",
    "    allIngredients = set() \n",
    "    for client_info in client_data:\n",
    "        client_likes, client_dislikes = client_info\n",
    "        allIngredients = allIngredients.union(client_likes)\n",
    "        allIngredients = allIngredients.union(client_dislikes)\n",
    "    return allIngredients"
   ]
  },
  {
   "cell_type": "code",
   "execution_count": 6,
   "id": "1cd72610",
   "metadata": {},
   "outputs": [],
   "source": [
    "def getAllDislikedIngredients(client_data):\n",
    "    result = set() \n",
    "    for client_info in client_data:\n",
    "        client_likes, client_dislikes = client_info\n",
    "        result = result.union(client_dislikes)\n",
    "    return result"
   ]
  },
  {
   "cell_type": "code",
   "execution_count": 7,
   "id": "c1e2b053",
   "metadata": {},
   "outputs": [],
   "source": [
    "def getIngredientsThatWereNeverDisliked(client_data):\n",
    "    allIngredients = getAllIngredients(client_data)\n",
    "    allDislikes = getAllDislikedIngredients(client_data)\n",
    "    \n",
    "    result = set()\n",
    "    for i in allIngredients:\n",
    "        if i not in allDislikes:\n",
    "            result.add(i)\n",
    "    \n",
    "    return result"
   ]
  },
  {
   "cell_type": "code",
   "execution_count": 8,
   "id": "f39ca5dd",
   "metadata": {},
   "outputs": [],
   "source": [
    "client_data = parse_input(files[0])"
   ]
  },
  {
   "cell_type": "code",
   "execution_count": 9,
   "id": "310a2646",
   "metadata": {},
   "outputs": [
    {
     "name": "stdout",
     "output_type": "stream",
     "text": [
      "Score: 2, Total Clients: 3\n"
     ]
    }
   ],
   "source": [
    "pizza = {'cheese', 'peppers', 'basil'}\n",
    "score = score_pizza(pizza, client_data)\n",
    "print(f\"Score: {score}, Total Clients: {len(client_data)}\")"
   ]
  },
  {
   "cell_type": "code",
   "execution_count": 10,
   "id": "234ec1fc",
   "metadata": {},
   "outputs": [
    {
     "data": {
      "text/plain": [
       "{'cheese', 'mushrooms', 'peppers', 'tomatoes'}"
      ]
     },
     "execution_count": 10,
     "metadata": {},
     "output_type": "execute_result"
    }
   ],
   "source": [
    "getIngredientsThatWereNeverDisliked(client_data)"
   ]
  },
  {
   "cell_type": "code",
   "execution_count": null,
   "id": "e18ac4fa",
   "metadata": {},
   "outputs": [],
   "source": []
  },
  {
   "cell_type": "code",
   "execution_count": null,
   "id": "cf9fb2c4",
   "metadata": {},
   "outputs": [],
   "source": []
  }
 ],
 "metadata": {
  "kernelspec": {
   "display_name": "Python 3 (ipykernel)",
   "language": "python",
   "name": "python3"
  },
  "language_info": {
   "codemirror_mode": {
    "name": "ipython",
    "version": 3
   },
   "file_extension": ".py",
   "mimetype": "text/x-python",
   "name": "python",
   "nbconvert_exporter": "python",
   "pygments_lexer": "ipython3",
   "version": "3.9.6"
  }
 },
 "nbformat": 4,
 "nbformat_minor": 5
}
