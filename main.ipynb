{
 "cells": [
  {
   "cell_type": "code",
   "execution_count": 56,
   "id": "1d58413e",
   "metadata": {},
   "outputs": [],
   "source": [
    "import os\n",
    "files = ['./input/' + file for file in os.listdir('./input')]"
   ]
  },
  {
   "cell_type": "code",
   "execution_count": 57,
   "id": "da7fec55",
   "metadata": {},
   "outputs": [],
   "source": [
    "def parse_input(filename):\n",
    "    with open(filename, \"r\") as f:\n",
    "        data = f.read()\n",
    "    data = [i for i in data.split(\"\\n\") if i.strip() != \"\"]\n",
    "    \n",
    "    data = data[1:]\n",
    "    client_data = [[data[i], data[i+1]] for i in range(0, len(data), 2)]\n",
    "    \n",
    "    for i in range(len(client_data)):\n",
    "        likes, dislikes = client_data[i]\n",
    "        likes = set(likes.split(\" \")[1:])\n",
    "        dislikes = set(dislikes.split(\" \")[1:] or [])\n",
    "        client_data[i] = [likes, dislikes]\n",
    "    return client_data"
   ]
  },
  {
   "cell_type": "code",
   "execution_count": 58,
   "id": "ac2a2fd4",
   "metadata": {},
   "outputs": [],
   "source": [
    "def score_pizza(pizza: set[str], client_data):\n",
    "    score = 0\n",
    "    for client_info in client_data:\n",
    "        client_likes, client_dislikes = client_info\n",
    "        client_likes_pizza = True\n",
    "        \n",
    "        # all the ingredients they like are on the pizza\n",
    "        for liked_ingredient in client_likes:\n",
    "            if liked_ingredient not in pizza:\n",
    "                client_likes_pizza = False\n",
    "                break\n",
    "\n",
    "        # none of the ingredients they dislike are on the pizza \n",
    "        if client_likes_pizza:\n",
    "            for disliked_ingredient in client_dislikes:\n",
    "                if disliked_ingredient in pizza:\n",
    "                    client_likes_pizza = False\n",
    "                    break\n",
    "        if client_likes_pizza:\n",
    "            score += 1\n",
    "    return score"
   ]
  },
  {
   "cell_type": "code",
   "execution_count": 59,
   "id": "f39ca5dd",
   "metadata": {},
   "outputs": [
    {
     "data": {
      "text/plain": [
       "[[{'cheese', 'peppers'}, set()],\n",
       " [{'basil'}, {'pineapple'}],\n",
       " [{'mushrooms', 'tomatoes'}, {'basil'}]]"
      ]
     },
     "execution_count": 59,
     "metadata": {},
     "output_type": "execute_result"
    }
   ],
   "source": [
    "client_data = parse_input(files[0])\n",
    "client_data"
   ]
  },
  {
   "cell_type": "code",
   "execution_count": 60,
   "id": "310a2646",
   "metadata": {},
   "outputs": [
    {
     "name": "stdout",
     "output_type": "stream",
     "text": [
      "Score: 2\n"
     ]
    }
   ],
   "source": [
    "pizza = {'cheese', 'peppers', 'basil'}\n",
    "score = score_pizza(pizza, client_data)\n",
    "print(f\"Score: {score}\")"
   ]
  },
  {
   "cell_type": "code",
   "execution_count": null,
   "id": "c3fb93b1",
   "metadata": {},
   "outputs": [],
   "source": []
  },
  {
   "cell_type": "code",
   "execution_count": null,
   "id": "2e5c7104",
   "metadata": {},
   "outputs": [],
   "source": []
  }
 ],
 "metadata": {
  "kernelspec": {
   "display_name": "Python 3 (ipykernel)",
   "language": "python",
   "name": "python3"
  },
  "language_info": {
   "codemirror_mode": {
    "name": "ipython",
    "version": 3
   },
   "file_extension": ".py",
   "mimetype": "text/x-python",
   "name": "python",
   "nbconvert_exporter": "python",
   "pygments_lexer": "ipython3",
   "version": "3.9.6"
  }
 },
 "nbformat": 4,
 "nbformat_minor": 5
}
