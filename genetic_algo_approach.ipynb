{
 "cells": [
  {
   "cell_type": "code",
   "execution_count": null,
   "id": "7a927a49",
   "metadata": {},
   "outputs": [],
   "source": [
    "# Resources used\n",
    "# https://www.youtube.com/watch?v=uQj5UNhCPuo\n",
    "# https://www.youtube.com/watch?v=nhT56blfRpE\n",
    "# https://github.com/kiecodes/genetic-algorithms"
   ]
  },
  {
   "cell_type": "code",
   "execution_count": 22,
   "id": "4e40b224",
   "metadata": {},
   "outputs": [],
   "source": [
    "from random import choices, choice, randint, randrange, random\n",
    "from math import log10\n",
    "import matplotlib.pyplot as plt \n",
    "import os\n",
    "import time\n",
    "%matplotlib inline"
   ]
  },
  {
   "cell_type": "code",
   "execution_count": 2,
   "id": "da7fec55",
   "metadata": {},
   "outputs": [],
   "source": [
    "def parse_input(filename):\n",
    "    with open(filename, \"r\") as f:\n",
    "        data = f.read()\n",
    "    data = [i for i in data.split(\"\\n\") if i.strip() != \"\"]\n",
    "    \n",
    "    data = data[1:]\n",
    "    client_data = [[data[i], data[i+1]] for i in range(0, len(data), 2)]\n",
    "    \n",
    "    for i in range(len(client_data)):\n",
    "        likes, dislikes = client_data[i]\n",
    "        likes = set(likes.split(\" \")[1:])\n",
    "        dislikes = set(dislikes.split(\" \")[1:] or [])\n",
    "        client_data[i] = [likes, dislikes]\n",
    "    return client_data"
   ]
  },
  {
   "cell_type": "code",
   "execution_count": 3,
   "id": "d7d0614a",
   "metadata": {},
   "outputs": [],
   "source": [
    "def score_pizza(pizza_ingredients: set[str]):\n",
    "    pizza_ingredients = set(pizza_ingredients)\n",
    "    score = 0\n",
    "    global client_data\n",
    "    for client_info in client_data:\n",
    "        client_likes, client_dislikes = client_info\n",
    "        client_likes_pizza = True\n",
    "        \n",
    "        # all the ingredients they like are on the pizza\n",
    "        for liked_ingredient in client_likes:\n",
    "            if liked_ingredient not in pizza_ingredients:\n",
    "                client_likes_pizza = False\n",
    "                break\n",
    "\n",
    "        # none of the ingredients they dislike are on the pizza \n",
    "        if client_likes_pizza:\n",
    "            for disliked_ingredient in client_dislikes:\n",
    "                if disliked_ingredient in pizza_ingredients:\n",
    "                    client_likes_pizza = False\n",
    "                    break\n",
    "        if client_likes_pizza:\n",
    "            score += 1\n",
    "    return score"
   ]
  },
  {
   "cell_type": "code",
   "execution_count": 4,
   "id": "6b0e1414",
   "metadata": {},
   "outputs": [],
   "source": [
    "def getAllIngredients():\n",
    "    global client_data\n",
    "    allIngredients = set()\n",
    "    for client_info in client_data:\n",
    "        client_likes, client_dislikes = client_info\n",
    "        allIngredients = allIngredients.union(client_likes)\n",
    "        allIngredients = allIngredients.union(client_dislikes)\n",
    "    return sorted(list(allIngredients))"
   ]
  },
  {
   "cell_type": "code",
   "execution_count": 5,
   "id": "8a3e3e74",
   "metadata": {},
   "outputs": [],
   "source": [
    "def getAllDislikedIngredients():\n",
    "    global client_data\n",
    "    result = set() \n",
    "    for client_info in client_data:\n",
    "        client_likes, client_dislikes = client_info\n",
    "        result = result.union(client_dislikes)\n",
    "    return result"
   ]
  },
  {
   "cell_type": "code",
   "execution_count": 126,
   "id": "01dfce30",
   "metadata": {},
   "outputs": [],
   "source": [
    "def getIngredientsThatWereNeverDisliked():\n",
    "    global client_data\n",
    "    allIngredients = set(getAllIngredients())\n",
    "    allDislikes = getAllDislikedIngredients()\n",
    "    \n",
    "    result = set()\n",
    "    for i in allIngredients:\n",
    "        if i not in allDislikes:\n",
    "            result.add(i)\n",
    "    \n",
    "    return result\n",
    "\n",
    "def getAllIngredientsThatWereDislikedAtleastOnce():\n",
    "    global client_data\n",
    "    allIngredients = set(getAllIngredients())\n",
    "    neverDislikedIngredients = getIngredientsThatWereNeverDisliked()\n",
    "    return sorted(list(allIngredients.difference(neverDislikedIngredients)))"
   ]
  },
  {
   "cell_type": "code",
   "execution_count": 127,
   "id": "0d428ef0",
   "metadata": {},
   "outputs": [],
   "source": [
    "def generate_genome():\n",
    "    'Generates random genome'\n",
    "    global genomeLength\n",
    "    return choices([0, 1], k=genomeLength)\n",
    "\n",
    "def generate_population(size):\n",
    "    'Generates list of random genomes of provided size'\n",
    "    return [generate_genome() for _ in range(size)]\n",
    "\n",
    "def genome_to_ingredients(genome):\n",
    "    'Convert genome to what pizza ingredients they represent'\n",
    "    global allIngredients\n",
    "    ingredients = set()\n",
    "    for idx, bit in enumerate(genome):\n",
    "        if bit == 1:\n",
    "            ingredients.add(allIngredients[idx])\n",
    "    return ingredients\n",
    "\n",
    "def get_genome_score(genome, fixed=set()):\n",
    "    'Get score of genome i.e. how many clients were fine with the pizza'\n",
    "    ingredients = genome_to_ingredients(genome)\n",
    "#     return score_pizza(ingredients)\n",
    "    return score_pizza(ingredients.union(fixed))"
   ]
  },
  {
   "cell_type": "code",
   "execution_count": 128,
   "id": "8f2917c8",
   "metadata": {},
   "outputs": [],
   "source": [
    "def selection_pair(population):\n",
    "    return choices(\n",
    "        population=population,\n",
    "        weights=[get_genome_score(g) for g in population],\n",
    "        k = 2\n",
    "    )\n",
    "\n",
    "def single_point_crossover(genome_a, genome_b):\n",
    "    p = randint(1, len(genome_a)-1)\n",
    "    return genome_a[0:p] + genome_b[p:], genome_b[0:p] + genome_a[p:]\n",
    "\n",
    "def mutation(g, count = 1, probability = 0.5):\n",
    "    'Flip `count` bits of genome `g` with a chance of `probability`'\n",
    "    for _ in range(count):\n",
    "        idx = randrange(len(g))\n",
    "        if random() < probability:\n",
    "            g[idx] = g[idx] ^ 1         # Bit-Flip\n",
    "    return g"
   ]
  },
  {
   "cell_type": "code",
   "execution_count": 129,
   "id": "93d8a17b",
   "metadata": {},
   "outputs": [],
   "source": [
    "def run_evolution(population_size=10, initial_genome_suggestions = None):\n",
    "    global genomeLength, bestGenome, bestScore, points, alreadyChosen\n",
    "\n",
    "    if initial_genome_suggestions is not None:\n",
    "        population = generate_population(population_size-len(initial_genome_suggestions)) + initial_genome_suggestions\n",
    "    else:\n",
    "        population = generate_population(population_size)\n",
    "\n",
    "    population = sorted(population, key=lambda g: -get_genome_score(g, alreadyChosen))\n",
    "    prevScore = 0\n",
    "    \n",
    "    i = 0\n",
    "    while True:\n",
    "        next_gen = population[:2] # Top 2 candidates\n",
    "        \n",
    "        for _ in range(int(len(population) / 2) - 1):\n",
    "            parents = selection_pair(population)\n",
    "            # Reproduce\n",
    "            child_a, child_b = single_point_crossover(parents[0], parents[1])\n",
    "            # Mutation\n",
    "            child_a, child_b = mutation(child_a), mutation(child_b)\n",
    "            # Add them to next gen\n",
    "            next_gen += [child_a, child_b]\n",
    "        \n",
    "        population = next_gen\n",
    "        population = sorted(population, key=lambda g: -get_genome_score(g, alreadyChosen))\n",
    "        i += 1\n",
    "        bestGenome = population[0]\n",
    "\n",
    "        if i % 50 == 0:\n",
    "            bestScore = get_genome_score(bestGenome, alreadyChosen)\n",
    "            print(f\"Gen: {i} | Current Best Score: {bestScore}\" + \" \"*15, end=\"\\r\")\n",
    "            points.append((i, bestScore))"
   ]
  },
  {
   "cell_type": "markdown",
   "id": "e6db9836",
   "metadata": {},
   "source": [
    "NOTE:<br>\n",
    "We are gonna include the ingredients that were disliked in the pizza by default <br>\n",
    "The evolution will only executed for the ingredients that were disliked at least once <br>\n",
    "<br>\n",
    "Final Pizza Recipe = Ingredients that were never disliked + Ingredients found by running the evolution\n"
   ]
  },
  {
   "cell_type": "code",
   "execution_count": null,
   "id": "9c6977f2",
   "metadata": {},
   "outputs": [
    {
     "name": "stdout",
     "output_type": "stream",
     "text": [
      "File selected: ./input/d_difficult.in.txt\n",
      "No. of ingredients: 500\n",
      "No. of clients: 9368\n",
      "No. of permutations possible: 2^500 or 10^150.51\n",
      "Max Score Limit: 9368\n",
      "Time started: 00:53\n",
      "Gen: 4500 | Current Best Score: 1785               \r"
     ]
    }
   ],
   "source": [
    "files = ['./input/' + file for file in os.listdir('./input')]\n",
    "input_file = files[3]\n",
    "client_data = parse_input(input_file)\n",
    "# Ignoring the ingredient that were never disliked\n",
    "allIngredients = list(getAllIngredientsThatWereDislikedAtleastOnce())\n",
    "bestGenome = None\n",
    "bestScore = 0\n",
    "genomeLength = len(allIngredients)\n",
    "points = [] # List of (generationNumber, BestScoreAtThatGeneration)\n",
    "# Ingredients that were never disliked\n",
    "alreadyChosen = getIngredientsThatWereNeverDisliked()\n",
    "\n",
    "print(f\"File selected: {input_file}\")\n",
    "print(f\"No. of ingredients: {len(allIngredients)}\")\n",
    "print(f\"No. of clients: {len(client_data)}\")\n",
    "print(f\"No. of permutations possible: 2^{len(allIngredients)} or 10^{round(log10(2)*len(allIngredients), 2)}\")\n",
    "print(f\"Max Score Limit: {len(client_data)}\")\n",
    "print(time.strftime(\"Time started: %H:%M\"))\n",
    "\n",
    "run_evolution(population_size=15)"
   ]
  },
  {
   "cell_type": "code",
   "execution_count": 131,
   "id": "5f6051f5",
   "metadata": {
    "scrolled": true
   },
   "outputs": [
    {
     "data": {
      "text/plain": [
       "1781"
      ]
     },
     "execution_count": 131,
     "metadata": {},
     "output_type": "execute_result"
    }
   ],
   "source": [
    "# Final Pizza Recipe = Ingredients that were never disliked + Ingredients found by running the evolution\n",
    "best_recipe = genome_to_ingredients(bestGenome).union(alreadyChosen)\n",
    "score_pizza(best_recipe)\n",
    "# print(f\"{len(best_recipe)} {' '.join(best_recipe)}\")"
   ]
  },
  {
   "cell_type": "code",
   "execution_count": 132,
   "id": "8d4d5ec1",
   "metadata": {},
   "outputs": [
    {
     "data": {
      "image/png": "[encoded data removed]",
      "text/plain": [
       "<Figure size 432x288 with 1 Axes>"
      ]
     },
     "metadata": {
      "needs_background": "light"
     },
     "output_type": "display_data"
    }
   ],
   "source": [
    "x, y = [x for x, _ in points], [y for _, y in points]\n",
    "plt.plot(x, y)\n",
    "plt.xlabel('Generation')\n",
    "plt.ylabel('Score')\n",
    "plt.show()"
   ]
  },
  {
   "cell_type": "code",
   "execution_count": null,
   "id": "693703d5",
   "metadata": {},
   "outputs": [],
   "source": [
    "# Testcase D\n",
    "# Gen: 2800 | Current Best Score: 1782\n",
    "# Gen: 4000 | Current Best Score: 1783\n",
    "\n",
    "# Testcase E\n",
    "# Gen: 1500 | Current Best Score: 593\n",
    "# Gen: 2000 | Current Best Score: 652\n",
    "# Gen: 3000 | Current Best Score: 745\n",
    "# Gen: 3700 | Current Best Score: 804\n",
    "# Gen: 4000 | Current Best Score: 824\n",
    "# Gen: 5050 | Current Best Score: 900\n",
    "# Gen: 5050 | Current Best Score: 900\n",
    "# Gen: 6000 | Current Best Score: 934\n",
    "# Gen: 7650 | Current Best Score: 1001\n",
    "# Gen: 10000 | Current Best Score: 1001\n",
    "# Gen: 11000 | Current Best Score: 1083"
   ]
  },
  {
   "cell_type": "code",
   "execution_count": null,
   "id": "c30700a8",
   "metadata": {},
   "outputs": [],
   "source": [
    "# One of the best genomes found\n",
    "# [1, 1, 0, 1, 0, 1, 1, 0, 1, 1, 0, 0, 1, 1, 1, 1, 0, 1, 0, 0, 0, 1, 0, 1, 1, 1, 0, 1, 1, 1, 0, 0, 1, 1, 1, 1, 1, 0, 0, 1, 1, 0, 0, 1, 0, 0, 0, 0, 0, 1, 1, 1, 1, 1, 1, 0, 0, 1, 1, 1, 0, 0, 1, 1, 1, 0, 0, 0, 1, 1, 0, 0, 1, 1, 1, 0, 0, 0, 1, 1, 1, 1, 1, 1, 0, 0, 1, 1, 1, 0, 1, 0, 0, 1, 1, 1, 0, 1, 1, 0, 0, 1, 1, 0, 1, 0, 1, 0, 0, 1, 1, 1, 0, 0, 1, 1, 1, 1, 1, 1, 0, 1, 0, 0, 1, 0, 1, 1, 1, 0, 1, 1, 0, 0, 1, 1, 1, 1, 1, 0, 0, 0, 1, 1, 0, 1, 1, 0, 0, 0, 0, 0, 0, 1, 0, 0, 1, 0, 0, 0, 1, 1, 0, 0, 1, 1, 1, 0, 1, 0, 1, 1, 1, 1, 0, 1, 1, 1, 0, 0, 1, 1, 1, 0, 1, 0, 1, 0, 0, 0, 0, 1, 1, 0, 0, 1, 0, 0, 0, 0, 0, 0, 1, 0, 0, 1, 0, 0, 1, 1, 1, 1, 1, 1, 0, 0, 0, 1, 0, 0, 1, 1, 0, 1, 0, 0, 1, 1, 0, 1, 0, 1, 1, 0, 1, 0, 1, 1, 0, 0, 0, 1, 1, 0, 1, 0, 1, 1, 0, 1, 0, 0, 1, 0, 1, 1, 1, 0, 1, 1, 0, 1, 0, 0, 0, 1, 0, 1, 1, 0, 0, 0, 0, 1, 0, 0, 0, 0, 1, 0, 1, 0, 0, 1, 0, 0, 0, 0, 1, 0, 1, 1, 0, 1, 0, 0, 1, 0, 0, 1, 0, 1, 1, 1, 1, 1, 1, 0, 1, 1, 0, 0, 1, 0, 0, 1, 1, 1, 1, 0, 1, 0, 0, 0, 1, 0, 0, 0, 1, 1, 1, 1, 1, 0, 0, 1, 1, 1, 1, 0, 1, 0, 0, 1, 1, 1, 1, 0, 1, 1, 0, 0, 1, 0, 0, 1, 1, 0, 0, 0, 0, 0, 1, 1, 1, 1, 0, 1, 0, 0, 0, 0, 1, 0, 1, 1, 0, 0, 0, 1, 0, 0, 0, 1, 0, 0, 0, 0, 0, 0, 1, 1, 0, 1, 0, 0, 0, 0, 0, 0, 0, 1, 1, 0, 1, 1, 0, 1, 0, 1, 1, 0, 1, 1, 1, 1, 0, 0, 0, 1, 1, 1, 0, 1, 1, 1, 0, 0, 0, 1, 1, 0, 0, 1, 0, 1, 0, 0, 0, 1, 0, 1, 1, 1, 1, 0, 0, 0, 0, 1, 0, 0, 0, 0, 1, 1, 1, 0, 0, 0, 0, 0, 0, 1, 0, 1, 1, 0, 0, 1, 1, 1, 0, 0, 1, 0, 1, 1, 1, 0, 0, 1, 1, 1, 1, 0, 0, 0, 1, 0, 1, 0, 1, 0, 0, 1, 0, 1, 1, 0]"
   ]
  }
 ],
 "metadata": {
  "kernelspec": {
   "display_name": "Python 3 (ipykernel)",
   "language": "python",
   "name": "python3"
  },
  "language_info": {
   "codemirror_mode": {
    "name": "ipython",
    "version": 3
   },
   "file_extension": ".py",
   "mimetype": "text/x-python",
   "name": "python",
   "nbconvert_exporter": "python",
   "pygments_lexer": "ipython3",
   "version": "3.9.6"
  }
 },
 "nbformat": 4,
 "nbformat_minor": 5
}
