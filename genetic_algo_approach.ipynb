{
 "cells": [
  {
   "cell_type": "code",
   "execution_count": 1,
   "id": "4e40b224",
   "metadata": {},
   "outputs": [],
   "source": [
    "from random import choices, choice, randint, randrange, random\n",
    "from math import log10\n",
    "import os\n",
    "import time"
   ]
  },
  {
   "cell_type": "code",
   "execution_count": 2,
   "id": "da7fec55",
   "metadata": {},
   "outputs": [],
   "source": [
    "def parse_input(filename):\n",
    "    with open(filename, \"r\") as f:\n",
    "        data = f.read()\n",
    "    data = [i for i in data.split(\"\\n\") if i.strip() != \"\"]\n",
    "    \n",
    "    data = data[1:]\n",
    "    client_data = [[data[i], data[i+1]] for i in range(0, len(data), 2)]\n",
    "    \n",
    "    for i in range(len(client_data)):\n",
    "        likes, dislikes = client_data[i]\n",
    "        likes = set(likes.split(\" \")[1:])\n",
    "        dislikes = set(dislikes.split(\" \")[1:] or [])\n",
    "        client_data[i] = [likes, dislikes]\n",
    "    return client_data"
   ]
  },
  {
   "cell_type": "code",
   "execution_count": 3,
   "id": "d7d0614a",
   "metadata": {},
   "outputs": [],
   "source": [
    "def score_pizza(pizza_ingredients: set[str]):\n",
    "    pizza_ingredients = set(pizza_ingredients)\n",
    "    score = 0\n",
    "    global client_data\n",
    "    for client_info in client_data:\n",
    "        client_likes, client_dislikes = client_info\n",
    "        client_likes_pizza = True\n",
    "        \n",
    "        # all the ingredients they like are on the pizza\n",
    "        for liked_ingredient in client_likes:\n",
    "            if liked_ingredient not in pizza_ingredients:\n",
    "                client_likes_pizza = False\n",
    "                break\n",
    "\n",
    "        # none of the ingredients they dislike are on the pizza \n",
    "        if client_likes_pizza:\n",
    "            for disliked_ingredient in client_dislikes:\n",
    "                if disliked_ingredient in pizza_ingredients:\n",
    "                    client_likes_pizza = False\n",
    "                    break\n",
    "        if client_likes_pizza:\n",
    "            score += 1\n",
    "    return score"
   ]
  },
  {
   "cell_type": "code",
   "execution_count": 4,
   "id": "6b0e1414",
   "metadata": {},
   "outputs": [],
   "source": [
    "def getAllIngredients():\n",
    "    global client_data\n",
    "    allIngredients = set()\n",
    "    for client_info in client_data:\n",
    "        client_likes, client_dislikes = client_info\n",
    "        allIngredients = allIngredients.union(client_likes)\n",
    "        allIngredients = allIngredients.union(client_dislikes)\n",
    "    return sorted(list(allIngredients))"
   ]
  },
  {
   "cell_type": "code",
   "execution_count": 5,
   "id": "8a3e3e74",
   "metadata": {},
   "outputs": [],
   "source": [
    "def getAllDislikedIngredients():\n",
    "    global client_data\n",
    "    result = set() \n",
    "    for client_info in client_data:\n",
    "        client_likes, client_dislikes = client_info\n",
    "        result = result.union(client_dislikes)\n",
    "    return result"
   ]
  },
  {
   "cell_type": "code",
   "execution_count": 6,
   "id": "01dfce30",
   "metadata": {},
   "outputs": [],
   "source": [
    "def getIngredientsThatWereNeverDisliked():\n",
    "    global client_data\n",
    "    allIngredients = set(getAllIngredients(client_data))\n",
    "    allDislikes = getAllDislikedIngredients(client_data)\n",
    "    \n",
    "    result = set()\n",
    "    for i in allIngredients:\n",
    "        if i not in allDislikes:\n",
    "            result.add(i)\n",
    "    \n",
    "    return result"
   ]
  },
  {
   "cell_type": "code",
   "execution_count": 7,
   "id": "0d428ef0",
   "metadata": {},
   "outputs": [],
   "source": [
    "def generate_genome():\n",
    "    'Generates random genome'\n",
    "    global genomeLength\n",
    "    return choices([0, 1], k=genomeLength)\n",
    "\n",
    "def generate_population(size):\n",
    "    'Generates list of random genomes of provided size'\n",
    "    return [generate_genome() for _ in range(size)]\n",
    "\n",
    "def genome_to_ingredients(genome):\n",
    "    'Convert genome to what pizza ingredients they represent'\n",
    "    ingredients = set()\n",
    "    for idx, bit in enumerate(genome):\n",
    "        if bit == 1:\n",
    "            ingredients.add(allIngredients[idx])\n",
    "    return ingredients\n",
    "\n",
    "def get_genome_score(genome):\n",
    "    'Get score of genome i.e. how many clients were fine with the pizza'\n",
    "    ingredients = genome_to_ingredients(genome)\n",
    "    return score_pizza(ingredients)"
   ]
  },
  {
   "cell_type": "code",
   "execution_count": 8,
   "id": "8f2917c8",
   "metadata": {},
   "outputs": [],
   "source": [
    "def selection_pair(population):\n",
    "    return choices(\n",
    "        population=population,\n",
    "        weights=[get_genome_score(g) for g in population],\n",
    "        k = 2\n",
    "    )\n",
    "\n",
    "def single_point_crossover(genome_a, genome_b):\n",
    "    p = randint(1, len(genome_a)-1)\n",
    "    return genome_a[0:p] + genome_b[p:], genome_b[0:p] + genome_a[p:]\n",
    "\n",
    "def mutation(g, count = 1, probability = 0.5):\n",
    "    'Flip `count` bits of genome `g` with a chance of `probability`'\n",
    "    for _ in range(count):\n",
    "        idx = randrange(len(g))\n",
    "        if random() < probability:\n",
    "            g[idx] = g[idx] ^ 1         # Bit-Flip\n",
    "    return g"
   ]
  },
  {
   "cell_type": "code",
   "execution_count": 9,
   "id": "93d8a17b",
   "metadata": {},
   "outputs": [],
   "source": [
    "def run_evolution(population_size=10):\n",
    "    global genomeLength, bestGenome, bestScore\n",
    "    population = generate_population(population_size)\n",
    "    population = sorted(population, key=lambda g: -get_genome_score(g))\n",
    "    \n",
    "    i = 0\n",
    "    while True:    \n",
    "        next_gen = population[:2] # Top 2 candidates\n",
    "        \n",
    "        for _ in range(int(len(population) / 2) - 1):\n",
    "            parents = selection_pair(population)\n",
    "            # Reproduce\n",
    "            child_a, child_b = single_point_crossover(parents[0], parents[1])\n",
    "            # Mutation\n",
    "            child_a, child_b = mutation(child_a), mutation(child_b)\n",
    "            # Add them to next gen\n",
    "            next_gen += [child_a, child_b]\n",
    "        \n",
    "        population = next_gen\n",
    "        population = sorted(population, key=lambda g: -get_genome_score(g))\n",
    "        bestGenome = population[0]\n",
    "        bestScore = get_genome_score(bestGenome)\n",
    "        i += 1\n",
    "        if i % 50 == 0:\n",
    "            print(f\"Gen: {i} | Current Best Score: {bestScore}\" + \" \"*15, end=\"\\r\")"
   ]
  },
  {
   "cell_type": "code",
   "execution_count": 10,
   "id": "9c6977f2",
   "metadata": {},
   "outputs": [
    {
     "name": "stdout",
     "output_type": "stream",
     "text": [
      "File selected: ./input/d_difficult.in.txt\n",
      "No. of ingredients: 600\n",
      "No. of clients: 9368\n",
      "No. of permutations possible: 2^600 or 10^180.62\n",
      "Time started: 20:39\n",
      "Gen: 2600 | Max Score Limit: 9368 | Current Best Score: 1762               \r"
     ]
    },
    {
     "ename": "KeyboardInterrupt",
     "evalue": "",
     "output_type": "error",
     "traceback": [
      "\u001b[1;31m---------------------------------------------------------------------------\u001b[0m",
      "\u001b[1;31mKeyboardInterrupt\u001b[0m                         Traceback (most recent call last)",
      "\u001b[1;32m~\\AppData\\Local\\Temp/ipykernel_2836/3805245984.py\u001b[0m in \u001b[0;36m<module>\u001b[1;34m\u001b[0m\n\u001b[0;32m     13\u001b[0m \u001b[0mprint\u001b[0m\u001b[1;33m(\u001b[0m\u001b[0mtime\u001b[0m\u001b[1;33m.\u001b[0m\u001b[0mstrftime\u001b[0m\u001b[1;33m(\u001b[0m\u001b[1;34m\"Time started: %H:%M\"\u001b[0m\u001b[1;33m)\u001b[0m\u001b[1;33m)\u001b[0m\u001b[1;33m\u001b[0m\u001b[1;33m\u001b[0m\u001b[0m\n\u001b[0;32m     14\u001b[0m \u001b[1;33m\u001b[0m\u001b[0m\n\u001b[1;32m---> 15\u001b[1;33m \u001b[0mrun_evolution\u001b[0m\u001b[1;33m(\u001b[0m\u001b[1;36m10\u001b[0m\u001b[1;33m)\u001b[0m\u001b[1;33m\u001b[0m\u001b[1;33m\u001b[0m\u001b[0m\n\u001b[0m",
      "\u001b[1;32m~\\AppData\\Local\\Temp/ipykernel_2836/146614001.py\u001b[0m in \u001b[0;36mrun_evolution\u001b[1;34m(population_size)\u001b[0m\n\u001b[0;32m      9\u001b[0m \u001b[1;33m\u001b[0m\u001b[0m\n\u001b[0;32m     10\u001b[0m         \u001b[1;32mfor\u001b[0m \u001b[0m_\u001b[0m \u001b[1;32min\u001b[0m \u001b[0mrange\u001b[0m\u001b[1;33m(\u001b[0m\u001b[0mint\u001b[0m\u001b[1;33m(\u001b[0m\u001b[0mlen\u001b[0m\u001b[1;33m(\u001b[0m\u001b[0mpopulation\u001b[0m\u001b[1;33m)\u001b[0m \u001b[1;33m/\u001b[0m \u001b[1;36m2\u001b[0m\u001b[1;33m)\u001b[0m \u001b[1;33m-\u001b[0m \u001b[1;36m1\u001b[0m\u001b[1;33m)\u001b[0m\u001b[1;33m:\u001b[0m\u001b[1;33m\u001b[0m\u001b[1;33m\u001b[0m\u001b[0m\n\u001b[1;32m---> 11\u001b[1;33m             \u001b[0mparents\u001b[0m \u001b[1;33m=\u001b[0m \u001b[0mselection_pair\u001b[0m\u001b[1;33m(\u001b[0m\u001b[0mpopulation\u001b[0m\u001b[1;33m)\u001b[0m\u001b[1;33m\u001b[0m\u001b[1;33m\u001b[0m\u001b[0m\n\u001b[0m\u001b[0;32m     12\u001b[0m             \u001b[1;31m# Reproduce\u001b[0m\u001b[1;33m\u001b[0m\u001b[1;33m\u001b[0m\u001b[1;33m\u001b[0m\u001b[0m\n\u001b[0;32m     13\u001b[0m             \u001b[0mchild_a\u001b[0m\u001b[1;33m,\u001b[0m \u001b[0mchild_b\u001b[0m \u001b[1;33m=\u001b[0m \u001b[0msingle_point_crossover\u001b[0m\u001b[1;33m(\u001b[0m\u001b[0mparents\u001b[0m\u001b[1;33m[\u001b[0m\u001b[1;36m0\u001b[0m\u001b[1;33m]\u001b[0m\u001b[1;33m,\u001b[0m \u001b[0mparents\u001b[0m\u001b[1;33m[\u001b[0m\u001b[1;36m1\u001b[0m\u001b[1;33m]\u001b[0m\u001b[1;33m)\u001b[0m\u001b[1;33m\u001b[0m\u001b[1;33m\u001b[0m\u001b[0m\n",
      "\u001b[1;32m~\\AppData\\Local\\Temp/ipykernel_2836/1711970773.py\u001b[0m in \u001b[0;36mselection_pair\u001b[1;34m(population)\u001b[0m\n\u001b[0;32m      2\u001b[0m     return choices(\n\u001b[0;32m      3\u001b[0m         \u001b[0mpopulation\u001b[0m\u001b[1;33m=\u001b[0m\u001b[0mpopulation\u001b[0m\u001b[1;33m,\u001b[0m\u001b[1;33m\u001b[0m\u001b[1;33m\u001b[0m\u001b[0m\n\u001b[1;32m----> 4\u001b[1;33m         \u001b[0mweights\u001b[0m\u001b[1;33m=\u001b[0m\u001b[1;33m[\u001b[0m\u001b[0mget_genome_score\u001b[0m\u001b[1;33m(\u001b[0m\u001b[0mg\u001b[0m\u001b[1;33m)\u001b[0m \u001b[1;32mfor\u001b[0m \u001b[0mg\u001b[0m \u001b[1;32min\u001b[0m \u001b[0mpopulation\u001b[0m\u001b[1;33m]\u001b[0m\u001b[1;33m,\u001b[0m\u001b[1;33m\u001b[0m\u001b[1;33m\u001b[0m\u001b[0m\n\u001b[0m\u001b[0;32m      5\u001b[0m         \u001b[0mk\u001b[0m \u001b[1;33m=\u001b[0m \u001b[1;36m2\u001b[0m\u001b[1;33m\u001b[0m\u001b[1;33m\u001b[0m\u001b[0m\n\u001b[0;32m      6\u001b[0m     )\n",
      "\u001b[1;32m~\\AppData\\Local\\Temp/ipykernel_2836/1711970773.py\u001b[0m in \u001b[0;36m<listcomp>\u001b[1;34m(.0)\u001b[0m\n\u001b[0;32m      2\u001b[0m     return choices(\n\u001b[0;32m      3\u001b[0m         \u001b[0mpopulation\u001b[0m\u001b[1;33m=\u001b[0m\u001b[0mpopulation\u001b[0m\u001b[1;33m,\u001b[0m\u001b[1;33m\u001b[0m\u001b[1;33m\u001b[0m\u001b[0m\n\u001b[1;32m----> 4\u001b[1;33m         \u001b[0mweights\u001b[0m\u001b[1;33m=\u001b[0m\u001b[1;33m[\u001b[0m\u001b[0mget_genome_score\u001b[0m\u001b[1;33m(\u001b[0m\u001b[0mg\u001b[0m\u001b[1;33m)\u001b[0m \u001b[1;32mfor\u001b[0m \u001b[0mg\u001b[0m \u001b[1;32min\u001b[0m \u001b[0mpopulation\u001b[0m\u001b[1;33m]\u001b[0m\u001b[1;33m,\u001b[0m\u001b[1;33m\u001b[0m\u001b[1;33m\u001b[0m\u001b[0m\n\u001b[0m\u001b[0;32m      5\u001b[0m         \u001b[0mk\u001b[0m \u001b[1;33m=\u001b[0m \u001b[1;36m2\u001b[0m\u001b[1;33m\u001b[0m\u001b[1;33m\u001b[0m\u001b[0m\n\u001b[0;32m      6\u001b[0m     )\n",
      "\u001b[1;32m~\\AppData\\Local\\Temp/ipykernel_2836/133108502.py\u001b[0m in \u001b[0;36mget_genome_score\u001b[1;34m(genome)\u001b[0m\n\u001b[0;32m     19\u001b[0m     \u001b[1;34m'Get score of genome i.e. how many clients were fine with the pizza'\u001b[0m\u001b[1;33m\u001b[0m\u001b[1;33m\u001b[0m\u001b[0m\n\u001b[0;32m     20\u001b[0m     \u001b[0mingredients\u001b[0m \u001b[1;33m=\u001b[0m \u001b[0mgenome_to_ingredients\u001b[0m\u001b[1;33m(\u001b[0m\u001b[0mgenome\u001b[0m\u001b[1;33m)\u001b[0m\u001b[1;33m\u001b[0m\u001b[1;33m\u001b[0m\u001b[0m\n\u001b[1;32m---> 21\u001b[1;33m     \u001b[1;32mreturn\u001b[0m \u001b[0mscore_pizza\u001b[0m\u001b[1;33m(\u001b[0m\u001b[0mingredients\u001b[0m\u001b[1;33m)\u001b[0m\u001b[1;33m\u001b[0m\u001b[1;33m\u001b[0m\u001b[0m\n\u001b[0m",
      "\u001b[1;32m~\\AppData\\Local\\Temp/ipykernel_2836/1423425520.py\u001b[0m in \u001b[0;36mscore_pizza\u001b[1;34m(pizza_ingredients)\u001b[0m\n\u001b[0;32m     20\u001b[0m                     \u001b[1;32mbreak\u001b[0m\u001b[1;33m\u001b[0m\u001b[1;33m\u001b[0m\u001b[0m\n\u001b[0;32m     21\u001b[0m         \u001b[1;32mif\u001b[0m \u001b[0mclient_likes_pizza\u001b[0m\u001b[1;33m:\u001b[0m\u001b[1;33m\u001b[0m\u001b[1;33m\u001b[0m\u001b[0m\n\u001b[1;32m---> 22\u001b[1;33m             \u001b[0mscore\u001b[0m \u001b[1;33m+=\u001b[0m \u001b[1;36m1\u001b[0m\u001b[1;33m\u001b[0m\u001b[1;33m\u001b[0m\u001b[0m\n\u001b[0m\u001b[0;32m     23\u001b[0m     \u001b[1;32mreturn\u001b[0m \u001b[0mscore\u001b[0m\u001b[1;33m\u001b[0m\u001b[1;33m\u001b[0m\u001b[0m\n",
      "\u001b[1;31mKeyboardInterrupt\u001b[0m: "
     ]
    }
   ],
   "source": [
    "files = ['./input/' + file for file in os.listdir('./input')]\n",
    "input_file = files[3]\n",
    "client_data = parse_input(input_file)\n",
    "allIngredients = list(getAllIngredients())\n",
    "bestGenome = None\n",
    "bestScore = 0\n",
    "genomeLength = len(allIngredients)\n",
    "\n",
    "print(f\"File selected: {input_file}\")\n",
    "print(f\"No. of ingredients: {len(allIngredients)}\")\n",
    "print(f\"No. of clients: {len(client_data)}\")\n",
    "print(f\"No. of permutations possible: 2^{len(allIngredients)} or 10^{round(log10(2)*len(allIngredients), 2)}\")\n",
    "print(f\"Max Score Limit: {len(client_data)}\")\n",
    "print(time.strftime(\"Time started: %H:%M\"))\n",
    "\n",
    "run_evolution(10)"
   ]
  },
  {
   "cell_type": "code",
   "execution_count": 14,
   "id": "5f6051f5",
   "metadata": {},
   "outputs": [],
   "source": [
    "# print(bestGenome)\n",
    "# print(genome_to_ingredients(bestGenome))"
   ]
  },
  {
   "cell_type": "code",
   "execution_count": 15,
   "id": "2776a8b5",
   "metadata": {},
   "outputs": [],
   "source": [
    "# Generation: 8674 | Max Score: 9368 | Current Best Score: 1787    \n",
    "# Generation: 15847 | Max Score: 9368 | Current Best Score: 1787\n",
    "# Generation: 19361 | Max Score: 9368 | Current Best Score: 1789"
   ]
  }
 ],
 "metadata": {
  "kernelspec": {
   "display_name": "Python 3 (ipykernel)",
   "language": "python",
   "name": "python3"
  },
  "language_info": {
   "codemirror_mode": {
    "name": "ipython",
    "version": 3
   },
   "file_extension": ".py",
   "mimetype": "text/x-python",
   "name": "python",
   "nbconvert_exporter": "python",
   "pygments_lexer": "ipython3",
   "version": "3.9.6"
  }
 },
 "nbformat": 4,
 "nbformat_minor": 5
}
